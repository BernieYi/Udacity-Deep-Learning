{
 "cells": [
  {
   "cell_type": "code",
   "execution_count": 1,
   "metadata": {},
   "outputs": [
    {
     "data": {
      "text/plain": [
       "MongoClient(host=['localhost:27017'], document_class=dict, tz_aware=False, connect=True, read_preference=Primary())"
      ]
     },
     "execution_count": 1,
     "metadata": {},
     "output_type": "execute_result"
    }
   ],
   "source": [
    "from mongoengine import *\n",
    "\n",
    "connect('tumblelog')   \n"
   ]
  },
  {
   "cell_type": "code",
   "execution_count": 2,
   "metadata": {
    "collapsed": true
   },
   "outputs": [],
   "source": [
    "class User(Document):\n",
    "    email = StringField(required=True)\n",
    "    first_name = StringField(max_length=50)\n",
    "    last_name = StringField(max_length=50)\n",
    "    \n",
    "class Comment(EmbeddedDocument):\n",
    "    content = StringField()\n",
    "    name = StringField(max_length=120)\n",
    "    \n",
    "class Post(Document):\n",
    "    title = StringField(max_length=120, required=True)\n",
    "    author = ReferenceField(User, reverse_delete_rule=CASCADE)\n",
    "    tags = ListField(StringField(max_length=30))\n",
    "    comments = ListField(EmbeddedDocumentField(Comment))\n",
    "\n",
    "    meta = {'allow_inheritance': True}\n",
    "\n",
    "class TextPost(Post):\n",
    "    content = StringField()\n",
    "\n",
    "class ImagePost(Post):\n",
    "    image_path = StringField()\n",
    "\n",
    "class LinkPost(Post):\n",
    "    link_url = StringField()"
   ]
  },
  {
   "cell_type": "code",
   "execution_count": 4,
   "metadata": {},
   "outputs": [
    {
     "data": {
      "text/plain": [
       "<LinkPost: LinkPost object>"
      ]
     },
     "execution_count": 4,
     "metadata": {},
     "output_type": "execute_result"
    }
   ],
   "source": [
    "ross = User(email='ross@example.com', first_name='Ross', last_name='Lawley').save()\n",
    "john = User(email='ross@example.com', first_name='John', last_name='Bawley').save()\n",
    "\n",
    "post1 = TextPost(title='Fun with MongoEngine', author=john)\n",
    "post1.content = 'Took a look at MongoEngine today, looks pretty cool.'\n",
    "post1.tags = ['mongodb', 'mongoengine']\n",
    "post1.save()\n",
    "\n",
    "post2 = LinkPost(title='MongoEngine Documentation', author=ross)\n",
    "post2.link_url = 'http://docs.mongoengine.com/'\n",
    "post2.tags = ['mongoengine']\n",
    "post2.save()"
   ]
  },
  {
   "cell_type": "code",
   "execution_count": 5,
   "metadata": {},
   "outputs": [
    {
     "name": "stdout",
     "output_type": "stream",
     "text": [
      "MongoEngine Documentation\n",
      "Fun with MongoEngine\n"
     ]
    },
    {
     "name": "stderr",
     "output_type": "stream",
     "text": [
      "C:\\Tools\\WinPython-64bit-3.6.1.0Qt5\\python-3.6.1.amd64\\lib\\site-packages\\ipykernel\\__main__.py:1: DeprecationWarning: generator 'QuerySet._iter_results' raised StopIteration\n",
      "  if __name__ == '__main__':\n"
     ]
    }
   ],
   "source": [
    "for post in Post.objects:\n",
    "    print(post.title)"
   ]
  },
  {
   "cell_type": "code",
   "execution_count": 6,
   "metadata": {},
   "outputs": [
    {
     "name": "stdout",
     "output_type": "stream",
     "text": [
      "Took a look at MongoEngine today, looks pretty cool.\n"
     ]
    },
    {
     "name": "stderr",
     "output_type": "stream",
     "text": [
      "C:\\Tools\\WinPython-64bit-3.6.1.0Qt5\\python-3.6.1.amd64\\lib\\site-packages\\ipykernel\\__main__.py:1: DeprecationWarning: generator 'QuerySet._iter_results' raised StopIteration\n",
      "  if __name__ == '__main__':\n"
     ]
    }
   ],
   "source": [
    "for post in TextPost.objects:\n",
    "    print(post.content)"
   ]
  },
  {
   "cell_type": "code",
   "execution_count": 7,
   "metadata": {},
   "outputs": [
    {
     "name": "stdout",
     "output_type": "stream",
     "text": [
      "MongoEngine Documentation\n",
      "=========================\n",
      "Link: http://docs.mongoengine.com/\n",
      "Fun with MongoEngine\n",
      "====================\n",
      "Took a look at MongoEngine today, looks pretty cool.\n"
     ]
    },
    {
     "name": "stderr",
     "output_type": "stream",
     "text": [
      "C:\\Tools\\WinPython-64bit-3.6.1.0Qt5\\python-3.6.1.amd64\\lib\\site-packages\\ipykernel\\__main__.py:1: DeprecationWarning: generator 'QuerySet._iter_results' raised StopIteration\n",
      "  if __name__ == '__main__':\n"
     ]
    }
   ],
   "source": [
    "for post in Post.objects:\n",
    "    print(post.title)\n",
    "    print('=' * len(post.title))\n",
    "\n",
    "    if isinstance(post, TextPost):\n",
    "        print(post.content)\n",
    "\n",
    "    if isinstance(post, LinkPost):\n",
    "        print('Link: {}'.format(post.link_url))"
   ]
  },
  {
   "cell_type": "code",
   "execution_count": 8,
   "metadata": {},
   "outputs": [
    {
     "name": "stdout",
     "output_type": "stream",
     "text": [
      "Fun with MongoEngine\n"
     ]
    },
    {
     "name": "stderr",
     "output_type": "stream",
     "text": [
      "C:\\Tools\\WinPython-64bit-3.6.1.0Qt5\\python-3.6.1.amd64\\lib\\site-packages\\ipykernel\\__main__.py:1: DeprecationWarning: generator 'QuerySet._iter_results' raised StopIteration\n",
      "  if __name__ == '__main__':\n"
     ]
    }
   ],
   "source": [
    "for post in Post.objects(tags='mongodb'):\n",
    "    print(post.title)"
   ]
  },
  {
   "cell_type": "code",
   "execution_count": 9,
   "metadata": {},
   "outputs": [
    {
     "name": "stdout",
     "output_type": "stream",
     "text": [
      "Found 1 posts with tag \"mongodb\"\n"
     ]
    }
   ],
   "source": [
    "num_posts = Post.objects(tags='mongodb').count()\n",
    "print('Found {} posts with tag \"mongodb\"'.format(num_posts))"
   ]
  },
  {
   "cell_type": "code",
   "execution_count": 10,
   "metadata": {},
   "outputs": [
    {
     "data": {
      "text/plain": [
       "'1 2 3'"
      ]
     },
     "execution_count": 10,
     "metadata": {},
     "output_type": "execute_result"
    }
   ],
   "source": [
    "L = [1,2,3]       \n",
    "\" \".join(str(x) for x in L)"
   ]
  },
  {
   "cell_type": "code",
   "execution_count": 11,
   "metadata": {
    "collapsed": true
   },
   "outputs": [],
   "source": [
    "list1 = ['1', '2', '3']\n",
    "str1 = ''.join(list1)"
   ]
  },
  {
   "cell_type": "code",
   "execution_count": 12,
   "metadata": {},
   "outputs": [
    {
     "name": "stdout",
     "output_type": "stream",
     "text": [
      "123\n"
     ]
    }
   ],
   "source": [
    "list1 = ['1', '2', '3']\n",
    "str1 = ''.join(list1)\n",
    "print(str1)"
   ]
  },
  {
   "cell_type": "code",
   "execution_count": 13,
   "metadata": {},
   "outputs": [
    {
     "name": "stdout",
     "output_type": "stream",
     "text": [
      "1, 2, 3\n"
     ]
    }
   ],
   "source": [
    "list1 = ['1', '2', '3']\n",
    "str1 = ', '.join(list1)\n",
    "print(str1)"
   ]
  },
  {
   "cell_type": "code",
   "execution_count": null,
   "metadata": {
    "collapsed": true
   },
   "outputs": [],
   "source": []
  }
 ],
 "metadata": {
  "kernelspec": {
   "display_name": "Python 3",
   "language": "python",
   "name": "python3"
  },
  "language_info": {
   "codemirror_mode": {
    "name": "ipython",
    "version": 3
   },
   "file_extension": ".py",
   "mimetype": "text/x-python",
   "name": "python",
   "nbconvert_exporter": "python",
   "pygments_lexer": "ipython3",
   "version": "3.6.1"
  }
 },
 "nbformat": 4,
 "nbformat_minor": 2
}
