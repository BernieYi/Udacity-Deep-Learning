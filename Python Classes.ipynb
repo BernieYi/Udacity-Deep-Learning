{
 "cells": [
  {
   "cell_type": "code",
   "execution_count": 3,
   "metadata": {},
   "outputs": [
    {
     "name": "stdout",
     "output_type": "stream",
     "text": [
      "<__main__.Complex object at 0x00000000059431D0>\n"
     ]
    }
   ],
   "source": [
    "class Complex:\n",
    "     def __init__(self, realpart, imagpart):\n",
    "        self.r = realpart\n",
    "        self.i = imagpart\n",
    "\n",
    "x = Complex(3.0, -4.5)\n",
    "x.counter = 1\n",
    "while x.counter < 10:\n",
    "    x.counter = x.counter * 2\n",
    "print(x)\n",
    "del x.counter\n"
   ]
  },
  {
   "cell_type": "code",
   "execution_count": 4,
   "metadata": {},
   "outputs": [
    {
     "name": "stdout",
     "output_type": "stream",
     "text": [
      "[[0, 4738], [0, 36], [0, 6376], [0, 0]]\n",
      "[[0, 4738], [0, 36], [0, 6376], [0, 0]]\n"
     ]
    }
   ],
   "source": [
    "import json\n",
    "lst = [(0,4738),(0,36),(0,6376),(0,0)]\n",
    "string = json.dumps(lst)\n",
    "print(string)\n",
    "lst = json.loads(string)\n",
    "print(lst)"
   ]
  },
  {
   "cell_type": "code",
   "execution_count": 7,
   "metadata": {},
   "outputs": [
    {
     "name": "stdout",
     "output_type": "stream",
     "text": [
      "[2, 3, 1, 3, 3, 1, 1, 2, 1, 2]\n"
     ]
    }
   ],
   "source": [
    "p=[[[3, 1], [0, 0], [5, 3], [0, 0], [0, 0]], [[2, 1, 3], [0, 0, 0], [2, 0, 6], [0, 0, 0], [0, 0, 0]], [[3], [0], [2], [0], [0]], [[3, 3, 3], [1, 0, 0], [2, 2, 7], [0, 0, 0], [0, 0, 0]], [[0, 1, 0], [1, 0, 1], [2, 3, 7], [0, 0, 0], [0, 0, 0]], [[0], [1], [0], [0], [0]], [[2], [1], [4], [0], [0]], [[1, 1], [1, 1], [3, 6], [0, 0], [0, 0]], [[3], [0], [2], [0], [0]], [[0, 1], [1, 0], [5, 3], [0, 0], [0, 0]]]\n",
    "tk = []\n",
    "for n in range(0, len(p)):\n",
    "    pn = p[n]\n",
    "    tk.append(len(pn[0]))\n",
    "print(tk)"
   ]
  },
  {
   "cell_type": "code",
   "execution_count": null,
   "metadata": {
    "collapsed": true
   },
   "outputs": [],
   "source": []
  }
 ],
 "metadata": {
  "kernelspec": {
   "display_name": "Python 3",
   "language": "python",
   "name": "python3"
  },
  "language_info": {
   "codemirror_mode": {
    "name": "ipython",
    "version": 3
   },
   "file_extension": ".py",
   "mimetype": "text/x-python",
   "name": "python",
   "nbconvert_exporter": "python",
   "pygments_lexer": "ipython3",
   "version": "3.6.1"
  }
 },
 "nbformat": 4,
 "nbformat_minor": 2
}
